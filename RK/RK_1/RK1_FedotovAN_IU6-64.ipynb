{
 "cells": [
  {
   "cell_type": "markdown",
   "id": "ae6eb69b",
   "metadata": {},
   "source": [
    "## РК_1 Федотов Александр ИУ5-64Б"
   ]
  },
  {
   "cell_type": "markdown",
   "id": "9b736ae9",
   "metadata": {},
   "source": [
    "Вариант 12\n",
    "задание № 2 \n",
    "датасет № 4\n"
   ]
  },
  {
   "cell_type": "markdown",
   "id": "0ba2e5bd",
   "metadata": {},
   "source": [
    "содержание датасета"
   ]
  },
  {
   "cell_type": "markdown",
   "id": "db8046e8",
   "metadata": {},
   "source": [
    "1. age - возраст\n",
    "2. sex - пол\n",
    "3. chest pain type - тип боли в груди\n",
    "4. resting blood pressure - артериальное давление в покое\n",
    "5. serum cholestoral in mg/dl - холестерин в сыворотке крови в мг/дл\n",
    "6. fasting blood sugar > 120 mg/dl - уровень сахара в крови натощак > 120 мг/дл\n",
    "7. resting electrocardiographic results (values 0,1,2) - результаты электрокардиографии в состоянии покоя (значения 0,1,2)\n",
    "8. maximum heart rate achieved - достигнутая максимальная частота сердечных сокращений\n",
    "9. exercise induced angina - стенокардия, вызванная физической нагрузкой\n",
    "10. oldpeak = ST depression induced by exercise relative to rest - депрессия сегмента ST, вызванная физической нагрузкой по \n",
    "11. the slope of the peak exercise ST segment - наклон сегмента ST пика физической нагрузки\n",
    "12. number of major vessels (0-3) colored by flourosopy - количество крупных сосудов (0-3), окрашенных при флоуроскопии\n",
    "13. thal: 0 = normal; 1 = fixed defect; 2 = reversable defect - тал: 0 = норма; 1 = фиксированный дефект; 2 = обратимый дефект"
   ]
  },
  {
   "cell_type": "code",
   "execution_count": 99,
   "id": "42991005",
   "metadata": {},
   "outputs": [],
   "source": [
    "import numpy as np\n",
    "import pandas as pd\n",
    "import matplotlib.pyplot as plt\n",
    "import seaborn as sns\n",
    "from sklearn.impute import SimpleImputer\n",
    "from sklearn.preprocessing import LabelEncoder, MinMaxScaler"
   ]
  },
  {
   "cell_type": "code",
   "execution_count": 91,
   "id": "794b4128",
   "metadata": {},
   "outputs": [],
   "source": [
    "data = pd.read_csv('heart.csv', sep = ',')"
   ]
  },
  {
   "cell_type": "code",
   "execution_count": 92,
   "id": "3fdb5bca",
   "metadata": {},
   "outputs": [
    {
     "data": {
      "text/plain": [
       "age          0\n",
       "sex          0\n",
       "cp          53\n",
       "trestbps     0\n",
       "chol         0\n",
       "fbs          0\n",
       "restecg      0\n",
       "thalach      0\n",
       "exang        0\n",
       "oldpeak     30\n",
       "slope        0\n",
       "ca           0\n",
       "thal         0\n",
       "target       1\n",
       "dtype: int64"
      ]
     },
     "execution_count": 92,
     "metadata": {},
     "output_type": "execute_result"
    }
   ],
   "source": [
    "data.isnull().sum()"
   ]
  },
  {
   "cell_type": "code",
   "execution_count": 93,
   "id": "e093163e",
   "metadata": {},
   "outputs": [
    {
     "data": {
      "text/html": [
       "<div>\n",
       "<style scoped>\n",
       "    .dataframe tbody tr th:only-of-type {\n",
       "        vertical-align: middle;\n",
       "    }\n",
       "\n",
       "    .dataframe tbody tr th {\n",
       "        vertical-align: top;\n",
       "    }\n",
       "\n",
       "    .dataframe thead th {\n",
       "        text-align: right;\n",
       "    }\n",
       "</style>\n",
       "<table border=\"1\" class=\"dataframe\">\n",
       "  <thead>\n",
       "    <tr style=\"text-align: right;\">\n",
       "      <th></th>\n",
       "      <th>age</th>\n",
       "      <th>sex</th>\n",
       "      <th>cp</th>\n",
       "      <th>trestbps</th>\n",
       "      <th>chol</th>\n",
       "      <th>fbs</th>\n",
       "      <th>restecg</th>\n",
       "      <th>thalach</th>\n",
       "      <th>exang</th>\n",
       "      <th>oldpeak</th>\n",
       "      <th>slope</th>\n",
       "      <th>ca</th>\n",
       "      <th>thal</th>\n",
       "      <th>target</th>\n",
       "    </tr>\n",
       "  </thead>\n",
       "  <tbody>\n",
       "    <tr>\n",
       "      <th>0</th>\n",
       "      <td>52</td>\n",
       "      <td>1</td>\n",
       "      <td>0.0</td>\n",
       "      <td>125</td>\n",
       "      <td>212</td>\n",
       "      <td>0</td>\n",
       "      <td>1</td>\n",
       "      <td>168</td>\n",
       "      <td>0</td>\n",
       "      <td>1.0</td>\n",
       "      <td>2</td>\n",
       "      <td>2</td>\n",
       "      <td>3</td>\n",
       "      <td>0.0</td>\n",
       "    </tr>\n",
       "    <tr>\n",
       "      <th>1</th>\n",
       "      <td>53</td>\n",
       "      <td>1</td>\n",
       "      <td>0.0</td>\n",
       "      <td>140</td>\n",
       "      <td>203</td>\n",
       "      <td>1</td>\n",
       "      <td>0</td>\n",
       "      <td>155</td>\n",
       "      <td>1</td>\n",
       "      <td>3.1</td>\n",
       "      <td>0</td>\n",
       "      <td>0</td>\n",
       "      <td>3</td>\n",
       "      <td>0.0</td>\n",
       "    </tr>\n",
       "    <tr>\n",
       "      <th>2</th>\n",
       "      <td>70</td>\n",
       "      <td>1</td>\n",
       "      <td>0.0</td>\n",
       "      <td>145</td>\n",
       "      <td>174</td>\n",
       "      <td>0</td>\n",
       "      <td>1</td>\n",
       "      <td>125</td>\n",
       "      <td>1</td>\n",
       "      <td>2.6</td>\n",
       "      <td>0</td>\n",
       "      <td>0</td>\n",
       "      <td>3</td>\n",
       "      <td>0.0</td>\n",
       "    </tr>\n",
       "    <tr>\n",
       "      <th>3</th>\n",
       "      <td>61</td>\n",
       "      <td>1</td>\n",
       "      <td>0.0</td>\n",
       "      <td>148</td>\n",
       "      <td>203</td>\n",
       "      <td>0</td>\n",
       "      <td>1</td>\n",
       "      <td>161</td>\n",
       "      <td>0</td>\n",
       "      <td>0.0</td>\n",
       "      <td>2</td>\n",
       "      <td>1</td>\n",
       "      <td>3</td>\n",
       "      <td>0.0</td>\n",
       "    </tr>\n",
       "    <tr>\n",
       "      <th>4</th>\n",
       "      <td>62</td>\n",
       "      <td>0</td>\n",
       "      <td>0.0</td>\n",
       "      <td>138</td>\n",
       "      <td>294</td>\n",
       "      <td>1</td>\n",
       "      <td>1</td>\n",
       "      <td>106</td>\n",
       "      <td>0</td>\n",
       "      <td>1.9</td>\n",
       "      <td>1</td>\n",
       "      <td>3</td>\n",
       "      <td>2</td>\n",
       "      <td>0.0</td>\n",
       "    </tr>\n",
       "  </tbody>\n",
       "</table>\n",
       "</div>"
      ],
      "text/plain": [
       "   age  sex   cp  trestbps  chol  fbs  restecg  thalach  exang  oldpeak  \\\n",
       "0   52    1  0.0       125   212    0        1      168      0      1.0   \n",
       "1   53    1  0.0       140   203    1        0      155      1      3.1   \n",
       "2   70    1  0.0       145   174    0        1      125      1      2.6   \n",
       "3   61    1  0.0       148   203    0        1      161      0      0.0   \n",
       "4   62    0  0.0       138   294    1        1      106      0      1.9   \n",
       "\n",
       "   slope  ca  thal  target  \n",
       "0      2   2     3     0.0  \n",
       "1      0   0     3     0.0  \n",
       "2      0   0     3     0.0  \n",
       "3      2   1     3     0.0  \n",
       "4      1   3     2     0.0  "
      ]
     },
     "execution_count": 93,
     "metadata": {},
     "output_type": "execute_result"
    }
   ],
   "source": [
    "data.head()"
   ]
  },
  {
   "cell_type": "markdown",
   "id": "f0df34c5",
   "metadata": {},
   "source": [
    "Заполнил пропуски категориального признака самым часто встречающимся значением"
   ]
  },
  {
   "cell_type": "code",
   "execution_count": 94,
   "id": "08775112",
   "metadata": {},
   "outputs": [
    {
     "name": "stderr",
     "output_type": "stream",
     "text": [
      "D:\\education\\PONIRS\\lib\\site-packages\\sklearn\\impute\\_base.py:49: FutureWarning: Unlike other reduction functions (e.g. `skew`, `kurtosis`), the default behavior of `mode` typically preserves the axis it acts along. In SciPy 1.11.0, this behavior will change: the default value of `keepdims` will become False, the `axis` over which the statistic is taken will be eliminated, and the value None will no longer be accepted. Set `keepdims` to True or False to avoid this warning.\n",
      "  mode = stats.mode(array)\n"
     ]
    },
    {
     "data": {
      "text/plain": [
       "age          0\n",
       "sex          0\n",
       "cp           0\n",
       "trestbps     0\n",
       "chol         0\n",
       "fbs          0\n",
       "restecg      0\n",
       "thalach      0\n",
       "exang        0\n",
       "oldpeak     30\n",
       "slope        0\n",
       "ca           0\n",
       "thal         0\n",
       "target       1\n",
       "dtype: int64"
      ]
     },
     "execution_count": 94,
     "metadata": {},
     "output_type": "execute_result"
    }
   ],
   "source": [
    "hi_data = data[['cp']]\n",
    "hi_data_imputer = SimpleImputer(missing_values=np.nan, strategy='most_frequent')\n",
    "hi_data = hi_data_imputer.fit_transform(hi_data)\n",
    "data[['cp']] = hi_data\n",
    "data.isnull().sum()"
   ]
  },
  {
   "cell_type": "markdown",
   "id": "b16825b0",
   "metadata": {},
   "source": [
    "Заполним пропуски количественных признаков средним значением"
   ]
  },
  {
   "cell_type": "code",
   "execution_count": 95,
   "id": "a21a1c09",
   "metadata": {},
   "outputs": [],
   "source": [
    "data.oldpeak.fillna(0.8, inplace = True)\n",
    "data[['oldpeak']] = temp_data"
   ]
  },
  {
   "cell_type": "code",
   "execution_count": 97,
   "id": "8469f194",
   "metadata": {},
   "outputs": [
    {
     "data": {
      "text/plain": [
       "age         0\n",
       "sex         0\n",
       "cp          0\n",
       "trestbps    0\n",
       "chol        0\n",
       "fbs         0\n",
       "restecg     0\n",
       "thalach     0\n",
       "exang       0\n",
       "oldpeak     0\n",
       "slope       0\n",
       "ca          0\n",
       "thal        0\n",
       "target      1\n",
       "dtype: int64"
      ]
     },
     "execution_count": 97,
     "metadata": {},
     "output_type": "execute_result"
    }
   ],
   "source": [
    "data.isnull().sum()"
   ]
  },
  {
   "cell_type": "code",
   "execution_count": 101,
   "id": "c568c380",
   "metadata": {},
   "outputs": [
    {
     "data": {
      "text/plain": [
       "<AxesSubplot:xlabel='age'>"
      ]
     },
     "execution_count": 101,
     "metadata": {},
     "output_type": "execute_result"
    },
    {
     "data": {
      "image/png": "[encoded data removed]",
      "text/plain": [
       "<Figure size 640x480 with 1 Axes>"
      ]
     },
     "metadata": {},
     "output_type": "display_data"
    }
   ],
   "source": [
    "sns.violinplot(x=data['age'])"
   ]
  },
  {
   "cell_type": "markdown",
   "id": "ce69da4c",
   "metadata": {},
   "source": [
    "Для дальнейего анализа считаю целесообразным использовать все имеющиеся данные для более корректного анализа и исключать какие либо данные лишь при более конкретном погружению в желаемую тему исследования"
   ]
  },
  {
   "cell_type": "code",
   "execution_count": null,
   "id": "f42aded6",
   "metadata": {},
   "outputs": [],
   "source": []
  }
 ],
 "metadata": {
  "kernelspec": {
   "display_name": "Python 3 (ipykernel)",
   "language": "python",
   "name": "python3"
  },
  "language_info": {
   "codemirror_mode": {
    "name": "ipython",
    "version": 3
   },
   "file_extension": ".py",
   "mimetype": "text/x-python",
   "name": "python",
   "nbconvert_exporter": "python",
   "pygments_lexer": "ipython3",
   "version": "3.9.13"
  }
 },
 "nbformat": 4,
 "nbformat_minor": 5
}
